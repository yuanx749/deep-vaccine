{
  "nbformat": 4,
  "nbformat_minor": 2,
  "metadata": {
    "orig_nbformat": 2,
    "kernelspec": {
      "name": "python3",
      "display_name": "Python 3.7.6 64-bit"
    },
    "metadata": {
      "interpreter": {
        "hash": "04635d289a519a1410467dd0afb0db42f9184808881ca68b2eb5a687a20a5a94"
      }
    },
    "colab": {
      "name": "LSTM.ipynb",
      "provenance": [],
      "collapsed_sections": []
    },
    "accelerator": "GPU",
    "language_info": {
      "name": "python",
      "version": "3.7.6",
      "mimetype": "text/x-python",
      "codemirror_mode": {
        "name": "ipython",
        "version": 3
      },
      "pygments_lexer": "ipython3",
      "nbconvert_exporter": "python",
      "file_extension": ".py"
    },
    "interpreter": {
      "hash": "04635d289a519a1410467dd0afb0db42f9184808881ca68b2eb5a687a20a5a94"
    }
  },
  "cells": [
    {
      "cell_type": "code",
      "execution_count": null,
      "source": [
        "from google.colab import drive\n",
        "drive.mount('/content/drive')"
      ],
      "outputs": [],
      "metadata": {
        "id": "opvP48prWUqi"
      }
    },
    {
      "cell_type": "code",
      "execution_count": null,
      "source": [
        "%cd /content/drive/MyDrive/vaccine/\n",
        "import sys\n",
        "sys.path.append('/content/drive/MyDrive/vaccine/')"
      ],
      "outputs": [],
      "metadata": {
        "id": "pukgtDQNWcMw"
      }
    },
    {
      "cell_type": "code",
      "execution_count": null,
      "source": [
        "%load_ext autoreload\n",
        "%autoreload 2"
      ],
      "outputs": [],
      "metadata": {
        "id": "j69ZPFklWJvX"
      }
    },
    {
      "cell_type": "code",
      "execution_count": null,
      "source": [
        "import random\n",
        "import os\n",
        "import socket\n",
        "import numpy as np\n",
        "import matplotlib.pyplot as plt\n",
        "import torch\n",
        "import torch.nn as nn\n",
        "import torch.nn.functional as F\n",
        "from torch.utils.data import DataLoader, random_split\n",
        "from torch.utils.tensorboard import SummaryWriter\n",
        "from tqdm.notebook import tqdm\n",
        "from datetime import datetime\n",
        "from scipy.cluster.hierarchy import dendrogram, linkage"
      ],
      "outputs": [],
      "metadata": {
        "id": "wF2gq84po8xq"
      }
    },
    {
      "cell_type": "code",
      "execution_count": null,
      "source": [
        "from data import Tokenizer, Tokenizer2, BaselineDataset, EpitopeDataset, AntigenDataset, NpyDataset, EpitopeRawDataset\n",
        "from model import RNN\n",
        "from utils import predict, plot_roc_curve, plot_representations"
      ],
      "outputs": [],
      "metadata": {
        "id": "jdSRqOC8o8xr"
      }
    },
    {
      "cell_type": "code",
      "execution_count": null,
      "source": [
        "RANDOM_SEED = 42\n",
        "def set_seed(seed):\n",
        "    torch.manual_seed(seed)\n",
        "    random.seed(seed)\n",
        "    np.random.seed(seed)\n",
        "    torch.backends.cudnn.benchmark = False\n",
        "    torch.backends.cudnn.deterministic = True"
      ],
      "outputs": [],
      "metadata": {
        "id": "NtQVD8Qxo8xr"
      }
    },
    {
      "cell_type": "code",
      "execution_count": null,
      "source": [
        "def train_eval(model, dataloader, criterion, optimizer=None, scheduler=None, is_train=True):\n",
        "    device = torch.device('cuda' if torch.cuda.is_available() else 'cpu')\n",
        "    torch.set_grad_enabled(is_train)\n",
        "    if is_train:\n",
        "        model.train()\n",
        "    else:\n",
        "        model.eval()\n",
        "    total_loss = 0\n",
        "    total_correct = 0\n",
        "    progress_bar = tqdm(dataloader, ascii=True)\n",
        "\n",
        "    for batch_idx, batch in enumerate(progress_bar):\n",
        "        \n",
        "        inputs, labels = batch\n",
        "        inputs = inputs.to(device)\n",
        "        labels = labels.to(device)\n",
        "        outputs = model(inputs)\n",
        "\n",
        "        loss = criterion(outputs, labels)\n",
        "        if is_train:\n",
        "            optimizer.zero_grad()\n",
        "            loss.backward()\n",
        "            nn.utils.clip_grad_norm_(model.parameters(), 0.5)\n",
        "            optimizer.step()\n",
        "            if scheduler:\n",
        "                scheduler.step()\n",
        "\n",
        "        total_loss += loss.item() * len(labels)\n",
        "        progress_bar.set_description_str('Batch: {:d}, Loss: {:.4f}'.format((batch_idx+1), loss.item()))\n",
        "\n",
        "        predictions = torch.argmax(outputs, dim=1)\n",
        "        total_correct += torch.sum(predictions.eq(labels))\n",
        "\n",
        "    return total_loss / len(dataloader.dataset), total_correct / len(dataloader.dataset)"
      ],
      "outputs": [],
      "metadata": {
        "id": "R1jhBZMZo8xr"
      }
    },
    {
      "cell_type": "code",
      "execution_count": null,
      "source": [
        "hparams = {\n",
        "        'lr': 0.005,\n",
        "        'l2': 0.0001,\n",
        "        'batch_size': 1024,\n",
        "        'emb_size': 32,\n",
        "        'kernel_size': 5,\n",
        "        'hidden_size': 128,\n",
        "        'dropout': 0.2,\n",
        "        'pooling': True\n",
        "    }"
      ],
      "outputs": [],
      "metadata": {
        "id": "-mwa_LM2o8xs"
      }
    },
    {
      "cell_type": "code",
      "execution_count": null,
      "source": [
        "set_seed(RANDOM_SEED)\n",
        "tokenizer = Tokenizer(max_len=40)\n",
        "train_dataset_ = EpitopeDataset('Positive_train.txt', 'Negative_train.txt', tokenizer=tokenizer, data_dir='./data')\n",
        "test_dataset = EpitopeDataset('Positive_test.txt', 'Negative_test.txt', tokenizer=tokenizer, data_dir='./data')\n",
        "valid_size = 1000\n",
        "train_dataset, valid_dataset = random_split(train_dataset_, [len(train_dataset_) - valid_size, valid_size])\n",
        "train_loader = DataLoader(train_dataset, batch_size=hparams['batch_size'], shuffle=True, collate_fn=train_dataset.dataset.collate_fn)\n",
        "valid_loader = DataLoader(valid_dataset, batch_size=hparams['batch_size'], shuffle=False, collate_fn=valid_dataset.dataset.collate_fn)\n",
        "test_loader = DataLoader(test_dataset, batch_size=hparams['batch_size'], shuffle=False, collate_fn=test_dataset.collate_fn)"
      ],
      "outputs": [],
      "metadata": {
        "id": "KjtbjhdxW-Ro"
      }
    },
    {
      "cell_type": "code",
      "execution_count": null,
      "source": [
        "device = torch.device('cuda' if torch.cuda.is_available() else 'cpu')\n",
        "model = RNN(tokenizer, emb_size=hparams['emb_size'], kernel_size=hparams['kernel_size'], hidden_size=hparams['hidden_size'], dropout=hparams['dropout'], pooling=hparams['pooling']).to(device)\n",
        "optimizer = torch.optim.AdamW(model.parameters(), lr=hparams['lr'], weight_decay=hparams['l2'], amsgrad=True)\n",
        "scheduler1 = torch.optim.lr_scheduler.StepLR(optimizer, step_size=10, gamma=0.5)\n",
        "scheduler2 = torch.optim.lr_scheduler.MultiStepLR(optimizer, [10, 30], gamma=0.5)\n",
        "scheduler3 = torch.optim.lr_scheduler.ReduceLROnPlateau(optimizer, mode='min', factor=0.5, patience=5)\n",
        "scheduler4 = torch.optim.lr_scheduler.CyclicLR(optimizer, 0.0001, hparams['lr'], step_size_up=100, cycle_momentum=False)\n",
        "criterion = nn.CrossEntropyLoss()"
      ],
      "outputs": [],
      "metadata": {
        "id": "JSpP_3mNLUOS"
      }
    },
    {
      "cell_type": "code",
      "execution_count": null,
      "source": [
        "current_time = datetime.now().strftime('%b%d_%H-%M-%S')\n",
        "log_dir = os.path.join('runs', current_time + '_' + socket.gethostname())\n",
        "writer = SummaryWriter(log_dir=log_dir)\n",
        "model_path = os.path.join(log_dir, 'lstm.pt')\n",
        "best_valid_loss = 0\n",
        "best_valid_acc = 0\n",
        "\n",
        "for epoch_idx in range(50):\n",
        "    train_loss, train_acc = train_eval(model, train_loader, criterion, optimizer)\n",
        "    valid_loss, valid_acc = train_eval(model, valid_loader, criterion, is_train=False)\n",
        "    scheduler2.step()\n",
        "    \n",
        "    print(\"Epoch {}\".format(epoch_idx))\n",
        "    print(\"Training Loss: {:.4f}. Validation Loss: {:.4f}. \".format(train_loss, valid_loss))\n",
        "    print(\"Training Accuracy: {:.4f}. Validation Accuracy: {:.4f}. \".format(train_acc, valid_acc))\n",
        "    writer.add_scalars('loss', {'train': train_loss, 'valid': valid_loss}, epoch_idx)\n",
        "    writer.add_scalars('accuracy', {'train': train_acc, 'valid': valid_acc}, epoch_idx)\n",
        "\n",
        "    if valid_acc > best_valid_acc:\n",
        "        best_valid_acc = valid_acc\n",
        "        best_valid_loss = valid_loss\n",
        "        torch.save(model, model_path)\n",
        "\n",
        "model = torch.load(model_path)\n",
        "_, test_acc = train_eval(model, test_loader, criterion, is_train=False)\n",
        "print(\"Test Accuracy: {:.4f}. \".format(test_acc))\n",
        "writer.add_hparams(hparams, {'hparam/accuracy': test_acc})\n",
        "writer.close()"
      ],
      "outputs": [],
      "metadata": {
        "tags": [],
        "id": "Fp2OWTR5o8xu",
        "collapsed": true
      }
    },
    {
      "cell_type": "code",
      "execution_count": null,
      "source": [
        "model = torch.load(model_path, map_location=device)\n",
        "train_labels, train_probs = predict(model, train_loader)\n",
        "test_labels, test_probs = predict(model, test_loader)\n",
        "figure = plot_roc_curve(train_labels, train_probs, test_labels, test_probs)\n",
        "figure.savefig(os.path.join('tex', 'figs', 'roc.pdf'), bbox_inches='tight')"
      ],
      "outputs": [],
      "metadata": {
        "id": "tPrDCewKo8xu"
      }
    },
    {
      "cell_type": "code",
      "execution_count": null,
      "source": [
        "representations = []\n",
        "def hook(module, input):\n",
        "    representations.append(input[0].detach())\n",
        "model = torch.load(model_path, map_location=device)\n",
        "model.fc1.register_forward_pre_hook(hook)\n",
        "test_labels, _ = predict(model, test_loader)\n",
        "representations = torch.cat(representations).cpu()"
      ],
      "outputs": [],
      "metadata": {
        "id": "7B8rjGVrlCur"
      }
    },
    {
      "cell_type": "code",
      "execution_count": null,
      "source": [
        "indices = list(range(1000)) + list(range(len(test_labels) // 2, len(test_labels) // 2 + 1000))\n",
        "figure = plot_representations(representations[indices], test_labels[indices])\n",
        "figure.savefig(os.path.join('tex', 'figs', 'tsne1.pdf'), bbox_inches='tight')"
      ],
      "outputs": [],
      "metadata": {
        "id": "zK8b0DqZwlsq"
      }
    },
    {
      "cell_type": "code",
      "execution_count": null,
      "source": [
        "test_representations = torch.load('./data/test_esm.pkl')\n",
        "figure = plot_representations(test_representations[indices], np.array(test_dataset.labels)[indices])\n",
        "figure.savefig(os.path.join('tex', 'figs', 'tsne2.pdf'), bbox_inches='tight')"
      ],
      "outputs": [],
      "metadata": {
        "id": "1qPkPVN7mgW3"
      }
    },
    {
      "cell_type": "code",
      "execution_count": null,
      "source": [
        "acc_test_dataset = NpyDataset('Positive_test.npy', 'Negative_test.npy')\n",
        "figure = plot_representations(acc_test_dataset.data[indices], np.array(test_dataset.labels)[indices])\n",
        "figure.savefig(os.path.join('tex', 'figs', 'tsne3.pdf'), bbox_inches='tight')"
      ],
      "outputs": [],
      "metadata": {
        "id": "zobtOJG5-5qd"
      }
    },
    {
      "cell_type": "code",
      "execution_count": null,
      "source": [
        "device = torch.device('cuda' if torch.cuda.is_available() else 'cpu')\n",
        "model = torch.load(model_path, map_location=device)\n",
        "mat = model.embedding.weight[3:, :].detach().cpu().numpy()\n",
        "Z = linkage(mat, method='complete')\n",
        "fig, ax = plt.subplots()\n",
        "dn = dendrogram(Z, labels='ACDEFGHIKLMNPQRSTVWY', ax=ax)\n",
        "fig.savefig(os.path.join('tex', 'figs', 'dg.pdf'), bbox_inches='tight')"
      ],
      "outputs": [],
      "metadata": {
        "id": "tJFJzVns1oXW"
      }
    }
  ]
}